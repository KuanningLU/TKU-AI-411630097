{
  "nbformat": 4,
  "nbformat_minor": 0,
  "metadata": {
    "colab": {
      "provenance": [],
      "authorship_tag": "ABX9TyMzrdyadBOU7wSvso+TqafU",
      "include_colab_link": true
    },
    "kernelspec": {
      "name": "python3",
      "display_name": "Python 3"
    },
    "language_info": {
      "name": "python"
    }
  },
  "cells": [
    {
      "cell_type": "markdown",
      "metadata": {
        "id": "view-in-github",
        "colab_type": "text"
      },
      "source": [
        "<a href=\"https://colab.research.google.com/github/KuanningLU/TKU-AI-411630097/blob/main/%E8%BF%B4%E6%AD%B8%E5%88%86%E6%9E%90%E7%B9%AA%E5%9C%96.ipynb\" target=\"_parent\"><img src=\"https://colab.research.google.com/assets/colab-badge.svg\" alt=\"Open In Colab\"/></a>"
      ]
    },
    {
      "cell_type": "code",
      "execution_count": 1,
      "metadata": {
        "colab": {
          "base_uri": "https://localhost:8080/",
          "height": 132
        },
        "id": "701G9_GEyLLo",
        "outputId": "8259b949-b269-4f46-e1c8-c80d1e9d1dbe"
      },
      "outputs": [
        {
          "output_type": "error",
          "ename": "SyntaxError",
          "evalue": "ignored",
          "traceback": [
            "\u001b[0;36m  File \u001b[0;32m\"<ipython-input-1-945b25d47eea>\"\u001b[0;36m, line \u001b[0;32m1\u001b[0m\n\u001b[0;31m    inport matplotlib.pyplot as plt # 繪畫函式庫\u001b[0m\n\u001b[0m                    ^\u001b[0m\n\u001b[0;31mSyntaxError\u001b[0m\u001b[0;31m:\u001b[0m invalid syntax\n"
          ]
        }
      ],
      "source": [
        "inport matplotlib.pyplot as plt # 繪畫函式庫"
      ]
    },
    {
      "cell_type": "code",
      "source": [
        "#繪製（黃）色x標記\n",
        "plt.plot([9,9.2,9.6,7.5,6.7,7], [9.4,9.2,9.2,9.2,7.1,7.4 ], 'yx')\n",
        "plt.plot([9,9.2,9.6,7.5,6.7,7], [9.4,9.2,9.2,9.2,7.1,7.4 ]， 'yx')\n",
        "#繪製（綜）色x標記\n",
        "plt.plot([7.2,7.3,7.2,7.3,7.2,7.3,7.3 ]，[10.3,10.5,9.2,10.2,9.7,10.1,10.1], 'gx' )\n",
        "plt.plot([6.5,9.0], [7.8,12.5], 'b- -'）# 繪製黑色虛線\n",
        "plt.ylabel('H cm') # 設定顯示y文字\n",
        "plt.xlabel('W cm') # 設定顯示x文字\n",
        "\n",
        "#繪製圖表\n",
        "plt.legend(('Orange', 'Lemons' ),loc='upper right')\n",
        "plt.show()"
      ],
      "metadata": {
        "colab": {
          "base_uri": "https://localhost:8080/",
          "height": 132
        },
        "id": "JY-8U9iWyqBV",
        "outputId": "dbca2f0b-7072-4800-da34-b1928dfcc9b0"
      },
      "execution_count": 2,
      "outputs": [
        {
          "output_type": "error",
          "ename": "SyntaxError",
          "evalue": "ignored",
          "traceback": [
            "\u001b[0;36m  File \u001b[0;32m\"<ipython-input-2-2590aa601fb7>\"\u001b[0;36m, line \u001b[0;32m3\u001b[0m\n\u001b[0;31m    plt.plot([9,9.2,9.6,7.5,6.7,7], [9.4,9.2,9.2,9.2,7.1,7.4 ]， 'yx')\u001b[0m\n\u001b[0m                                                              ^\u001b[0m\n\u001b[0;31mSyntaxError\u001b[0m\u001b[0;31m:\u001b[0m invalid character in identifier\n"
          ]
        }
      ]
    }
  ]
}